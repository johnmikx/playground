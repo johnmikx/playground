{
  "nbformat": 4,
  "nbformat_minor": 0,
  "metadata": {
    "colab": {
      "provenance": []
    },
    "kernelspec": {
      "name": "python3",
      "display_name": "Python 3"
    },
    "language_info": {
      "name": "python"
    }
  },
  "cells": [
    {
      "cell_type": "code",
      "execution_count": 1,
      "metadata": {
        "id": "qwzijsuq_ZP8"
      },
      "outputs": [],
      "source": [
        "import random\n",
        "import string"
      ]
    },
    {
      "cell_type": "code",
      "source": [
        "def generate_password(length=10):\n",
        "\n",
        "  characters = string.ascii_letters + string.digits\n",
        "  password = ''.join(random.choices(characters, k=length))\n",
        "  print(f\"Random Password of Length({length}): {password}\")"
      ],
      "metadata": {
        "id": "2J2AzZg9_bpK"
      },
      "execution_count": 4,
      "outputs": []
    },
    {
      "cell_type": "code",
      "source": [
        "generate_password()"
      ],
      "metadata": {
        "colab": {
          "base_uri": "https://localhost:8080/"
        },
        "id": "NYzMxoFaAtku",
        "outputId": "d2e98b39-fd55-4322-c737-efcb4e3d4f84"
      },
      "execution_count": 6,
      "outputs": [
        {
          "output_type": "stream",
          "name": "stdout",
          "text": [
            "Random Password of Length(10): THoGq0PrnW\n"
          ]
        }
      ]
    },
    {
      "cell_type": "code",
      "source": [
        "generate_password(11)"
      ],
      "metadata": {
        "colab": {
          "base_uri": "https://localhost:8080/"
        },
        "id": "XFBBNHPuA1QO",
        "outputId": "65f77d44-49a5-44cf-809d-ce6bd5717dbb"
      },
      "execution_count": 7,
      "outputs": [
        {
          "output_type": "stream",
          "name": "stdout",
          "text": [
            "Random Password of Length(11): G4lNJaC6stn\n"
          ]
        }
      ]
    },
    {
      "cell_type": "code",
      "source": [
        "generate_password(15)"
      ],
      "metadata": {
        "colab": {
          "base_uri": "https://localhost:8080/"
        },
        "id": "9J3c4eOAA3yv",
        "outputId": "776ccd2a-5bda-4564-b505-b2dabd77ae2d"
      },
      "execution_count": 8,
      "outputs": [
        {
          "output_type": "stream",
          "name": "stdout",
          "text": [
            "Random Password of Length(15): s6L1j5svgVduGRE\n"
          ]
        }
      ]
    }
  ]
}