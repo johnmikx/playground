{
  "nbformat": 4,
  "nbformat_minor": 0,
  "metadata": {
    "colab": {
      "provenance": []
    },
    "kernelspec": {
      "name": "python3",
      "display_name": "Python 3"
    },
    "language_info": {
      "name": "python"
    }
  },
  "cells": [
    {
      "cell_type": "code",
      "source": [
        "!pip install python-barcode"
      ],
      "metadata": {
        "id": "rCfp3Ac9gAqb"
      },
      "execution_count": null,
      "outputs": []
    },
    {
      "cell_type": "code",
      "execution_count": 2,
      "metadata": {
        "id": "RmOqOlXTfyGa"
      },
      "outputs": [],
      "source": [
        "import barcode\n",
        "from barcode.writer import ImageWriter\n",
        "from IPython.display import Image, display"
      ]
    },
    {
      "cell_type": "code",
      "source": [
        "def generate_barcode(data):\n",
        "  code = barcode.get('code128', data, writer=ImageWriter())\n",
        "  barcode_filename = code.save(\"barcode\")\n",
        "  print(\"Barcode generated.\")\n",
        "\n",
        "  display((Image(f\"{barcode_filename}\")))\n",
        "\n",
        "data = \"1234-5678-9012\"\n",
        "generate_barcode(data)"
      ],
      "metadata": {
        "colab": {
          "base_uri": "https://localhost:8080/",
          "height": 314
        },
        "id": "YsdbqFW4f7M7",
        "outputId": "44dda475-2417-49b2-a3b4-788a141ce5ed"
      },
      "execution_count": 4,
      "outputs": [
        {
          "output_type": "stream",
          "name": "stdout",
          "text": [
            "Barcode generated.\n"
          ]
        },
        {
          "output_type": "display_data",
          "data": {
            "image/png": "[encoded data removed]",
            "text/plain": [
              "<IPython.core.display.Image object>"
            ]
          },
          "metadata": {}
        }
      ]
    }
  ]
}