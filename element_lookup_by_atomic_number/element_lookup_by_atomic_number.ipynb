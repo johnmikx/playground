{
  "nbformat": 4,
  "nbformat_minor": 0,
  "metadata": {
    "colab": {
      "provenance": []
    },
    "kernelspec": {
      "name": "python3",
      "display_name": "Python 3"
    },
    "language_info": {
      "name": "python"
    }
  },
  "cells": [
    {
      "cell_type": "code",
      "source": [
        "!pip install periodictable"
      ],
      "metadata": {
        "id": "JCivHO4X8Fk5"
      },
      "execution_count": null,
      "outputs": []
    },
    {
      "cell_type": "code",
      "source": [
        "import periodictable"
      ],
      "metadata": {
        "id": "Ew820fGj5XOW"
      },
      "execution_count": 16,
      "outputs": []
    },
    {
      "cell_type": "code",
      "source": [
        "def get_element_info():\n",
        "  atomic_number = int(input(\"Enter atomic number: \"))\n",
        "\n",
        "  element = periodictable.elements[atomic_number]\n",
        "  print('Name:', element.name)\n",
        "  print('Symbol:', element.symbol)\n",
        "  print('Atomic Mass:', element.mass)\n",
        "  print('Density:', element.density)"
      ],
      "metadata": {
        "id": "QyCKJC7n5agB"
      },
      "execution_count": 17,
      "outputs": []
    },
    {
      "cell_type": "code",
      "source": [
        "get_element_info()"
      ],
      "metadata": {
        "colab": {
          "base_uri": "https://localhost:8080/"
        },
        "id": "7Q_8AIZd6KWj",
        "outputId": "461fa88a-3b6d-4cac-c814-f6c1fa2a158a"
      },
      "execution_count": 18,
      "outputs": [
        {
          "output_type": "stream",
          "name": "stdout",
          "text": [
            "Enter atomic number: 1\n",
            "Name: hydrogen\n",
            "Symbol: H\n",
            "Atomic Mass: 1.008\n",
            "Density: 0.0708\n"
          ]
        }
      ]
    },
    {
      "cell_type": "code",
      "source": [
        "get_element_info()"
      ],
      "metadata": {
        "colab": {
          "base_uri": "https://localhost:8080/"
        },
        "id": "RJDpDepq7RjJ",
        "outputId": "96e824cd-8c62-4eaa-d9e4-2c52e70ca76a"
      },
      "execution_count": 19,
      "outputs": [
        {
          "output_type": "stream",
          "name": "stdout",
          "text": [
            "Enter atomic number: 29\n",
            "Name: copper\n",
            "Symbol: Cu\n",
            "Atomic Mass: 63.546\n",
            "Density: 8.96\n"
          ]
        }
      ]
    },
    {
      "cell_type": "code",
      "source": [
        "get_element_info()"
      ],
      "metadata": {
        "colab": {
          "base_uri": "https://localhost:8080/"
        },
        "id": "mKXmx7cT8StC",
        "outputId": "a513a9f8-545d-4dda-b59b-4ed3cd25fd1d"
      },
      "execution_count": 20,
      "outputs": [
        {
          "output_type": "stream",
          "name": "stdout",
          "text": [
            "Enter atomic number: 118\n",
            "Name: oganesson\n",
            "Symbol: Og\n",
            "Atomic Mass: 294.0\n",
            "Density: None\n"
          ]
        }
      ]
    }
  ]
}